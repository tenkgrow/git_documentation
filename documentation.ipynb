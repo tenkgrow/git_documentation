{
 "metadata": {
  "name": "",
  "signature": "sha256:43914bf57ae0dfe86bde7233ea1e287268a7dd24c06c92effc112c3eeb724c3a"
 },
 "nbformat": 3,
 "nbformat_minor": 0,
 "worksheets": [
  {
   "cells": [
    {
     "cell_type": "markdown",
     "metadata": {},
     "source": [
      "# Dokumentation\n",
      "## Git basics\n",
      "### 1. Git konfigur\u00e1l\u00e1sa:\n",
      "  - Login to device and setup Git\n",
      "    - creating a repository folder (eg.:myrepo)\n",
      "    - [git config --global user.name \"Peter Nagy\"](/tree/commands/gitconf.sh)\n",
      "    - [mkdir myrepo && cd myrepo && git init](/tree/commands/gitinit.sh)"
     ]
    },
    {
     "cell_type": "code",
     "collapsed": false,
     "input": [
      "import os\n",
      "if (os.path.isdir(\"~/commands/\") is True):\n",
      "    !mkdir commands\n",
      "if (os.path.isdir(\"~/myrepo/\") is True):\n",
      "    !mkdir myrepo"
     ],
     "language": "python",
     "metadata": {},
     "outputs": [],
     "prompt_number": 119
    },
    {
     "cell_type": "code",
     "collapsed": false,
     "input": [
      "!echo '!git config --global user.name \"Peter Nagy\"' > ~/commands/gitconf.sh\n",
      "!echo '!mkdir myrepo && cd myrepo && git init' > ~/commands/gitinit.sh"
     ],
     "language": "python",
     "metadata": {},
     "outputs": [],
     "prompt_number": 120
    },
    {
     "cell_type": "code",
     "collapsed": false,
     "input": [
      "!ls ~/commands/\n",
      "!cat ~/commands/*"
     ],
     "language": "python",
     "metadata": {},
     "outputs": [
      {
       "output_type": "stream",
       "stream": "stdout",
       "text": [
        "gitconf.sh  gitinit.sh\r\n"
       ]
      },
      {
       "output_type": "stream",
       "stream": "stdout",
       "text": [
        "!git config --global user.name \"Peter Nagy\"\r\n",
        "!mkdir myrepo && cd myrepo && git init\r\n"
       ]
      }
     ],
     "prompt_number": 121
    },
    {
     "cell_type": "code",
     "collapsed": false,
     "input": [
      "!ls ~/myrepo/"
     ],
     "language": "python",
     "metadata": {},
     "outputs": [],
     "prompt_number": 122
    },
    {
     "cell_type": "code",
     "collapsed": false,
     "input": [],
     "language": "python",
     "metadata": {},
     "outputs": [],
     "prompt_number": 112
    },
    {
     "cell_type": "code",
     "collapsed": false,
     "input": [],
     "language": "python",
     "metadata": {},
     "outputs": [],
     "prompt_number": 112
    },
    {
     "cell_type": "code",
     "collapsed": false,
     "input": [],
     "language": "python",
     "metadata": {},
     "outputs": [],
     "prompt_number": 112
    },
    {
     "cell_type": "code",
     "collapsed": false,
     "input": [],
     "language": "python",
     "metadata": {},
     "outputs": []
    }
   ],
   "metadata": {}
  }
 ]
}